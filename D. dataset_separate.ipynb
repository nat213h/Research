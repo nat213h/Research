{
 "cells": [
  {
   "cell_type": "code",
   "execution_count": 3,
   "metadata": {},
   "outputs": [],
   "source": [
    "import pandas as pd\n",
    "from sklearn.model_selection import train_test_split\n",
    "\n",
    "# Load your CSV file into a DataFrame\n",
    "file_path = '/home/kali/project/c9-python-getting-started/modified_18fnL.csv'\n",
    "df = pd.read_csv(file_path)\n",
    "\n",
    "# Assume 'target_column' is the name of your target variable column\n",
    "X = df.drop('Class', axis=1)  # Features\n",
    "y = df['Class']  # Target variable\n",
    "\n",
    "# Split the data into training and test sets\n",
    "X_train, X_test, y_train, y_test = train_test_split(X, y, test_size=0.2, random_state=42)\n",
    "\n",
    "# Save training set to CSV\n",
    "training_set_path = '/home/kali/project/c9-python-getting-started/train__18fnL.csv'\n",
    "training_set = pd.concat([X_train, y_train], axis=1)\n",
    "training_set.to_csv(training_set_path, index=False)\n",
    "\n",
    "# Save test set to CSV\n",
    "test_set_path = '/home/kali/project/c9-python-getting-started/test__18fnL.csv'\n",
    "test_set = pd.concat([X_test, y_test], axis=1)\n",
    "test_set.to_csv(test_set_path, index=False)"
   ]
  }
 ],
 "metadata": {
  "kernelspec": {
   "display_name": "Python 3",
   "language": "python",
   "name": "python3"
  },
  "language_info": {
   "codemirror_mode": {
    "name": "ipython",
    "version": 3
   },
   "file_extension": ".py",
   "mimetype": "text/x-python",
   "name": "python",
   "nbconvert_exporter": "python",
   "pygments_lexer": "ipython3",
   "version": "3.11.5"
  }
 },
 "nbformat": 4,
 "nbformat_minor": 2
}
